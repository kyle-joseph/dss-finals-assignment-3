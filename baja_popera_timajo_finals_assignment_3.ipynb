{
 "cells": [
  {
   "cell_type": "markdown",
   "metadata": {},
   "source": []
  },
  {
   "cell_type": "markdown",
   "metadata": {},
   "source": [
    "## Import pdfplumber"
   ]
  },
  {
   "cell_type": "code",
   "execution_count": 53,
   "metadata": {},
   "outputs": [],
   "source": [
    "import pdfplumber"
   ]
  },
  {
   "cell_type": "markdown",
   "metadata": {},
   "source": [
    "## Display sample content of page"
   ]
  },
  {
   "cell_type": "code",
   "execution_count": 54,
   "metadata": {},
   "outputs": [
    {
     "data": {
      "text/plain": [
       "'13/01/2021  A/75/592/Add.6\\nHoly See (see also A/75/PV.10, annex II)\\nAddress by His Holiness Pope Francis\\nDelivered on Friday, 25 September 2020, at the 10th meeting of the General Assembly\\n [Original: Spanish; English translation provided by the delegation]\\nMr. President,\\nPeace be with all of you!\\nI offer cordial greetings to you, Mr President, and to all the Delegations taking \\npart in this significant Seventy-fifth Session of the United Nations General Assembly. \\nIn particular, I greet the Secretary General, Mr António Guterres, the participating \\nHeads of State and Government, and all those who are following the General Debate.\\nThe seventy-fifth 1anniversary of the United Nations offers me a fitting occasion \\nto express once again the Holy See’s desire that this Organization increasingly \\nserve as a sign of unity between States and an instrument of service to the entire  \\nhuman family.\\nIn these days, our world continues to be impacted by the COVID-19 pandemic, \\nwhich has led to the loss of so many lives. This crisis is changing our way of life, \\ncalling into question our economic, health and social systems, and exposing our \\nhuman fragility.\\nThe pandemic, indeed, calls us “to seize this time of trial as a time of \\nchoosing, a time to choose what matters and what passes away, a time to separate \\nwhat is necessary from what is not”2. It can represent a concrete opportunity for \\nconversion, for transformation, for rethinking our way of life and our economic and \\nsocial systems, which are widening the gap between rich and poor based on an unjust \\ndistribution of resources. On the other hand, the pandemic can be the occasion for a \\n“defensive retreat” into greater individualism and elitism.\\nWe are faced, then, with a choice between two possible paths. One path leads \\nto the consolidation of multilateralism as the expression of a renewed sense of global \\nco-responsibility, a solidarity grounded in justice and the attainment of peace and \\nunity within the human family, which is God’s plan for our world. The other path \\nemphasizes self-sufficiency, nationalism, protectionism, individualism and isolation; \\nit excludes the poor, the vulnerable and those dwelling on the peripheries of life. That \\npath would certainly be detrimental to the whole community, causing self-inflicted \\nwounds on everyone. It must not prevail.\\nThe pandemic has highlighted the urgent need to promote public health and \\nto make every person’s right to basic medical care a reality.3 For this reason, I renew \\nmy appeal to political leaders and the private sector to spare no effort to ensure \\naccess to COVID-19 vaccines and to the essential technologies needed to care for the \\nsick. If anyone should be given preference, let it be the poorest, the most vulnerable, \\nthose who so often experience discrimination because they have neither power nor \\neconomic resources.\\n1  Address to the General Assembly of the United Nations, 25 September 2015; BENEDICT XVI, Address to \\nthe General Assembly of the United Nations, 18 April 2008.\\n2  Meditation during the Extraordinary Moment of Prayer in the Time of Pandemic, 27 March 2020.\\n3  Universal Declaration of Human Rights, Article 25.1.\\n21-00392  7/80'"
      ]
     },
     "execution_count": 54,
     "metadata": {},
     "output_type": "execute_result"
    }
   ],
   "source": [
    "pdf = pdfplumber.open('UN-GENASS-4R6.pdf')\n",
    "holy_see_pages = []\n",
    "holy_see_text = ''\n",
    "for x in range(6, 12):\n",
    "    page = pdf.pages[x].extract_text()\n",
    "    holy_see_pages.append(page)\n",
    "    holy_see_text += page\n",
    "\n",
    "holy_see_pages[0]"
   ]
  },
  {
   "cell_type": "markdown",
   "metadata": {},
   "source": [
    "## Number of words and sentences using Python split function"
   ]
  },
  {
   "cell_type": "code",
   "execution_count": 55,
   "metadata": {},
   "outputs": [
    {
     "name": "stdout",
     "output_type": "stream",
     "text": [
      "Number of words:  2856\n"
     ]
    }
   ],
   "source": [
    "holy_see_num_words = holy_see_text.split()\n",
    "print(\"Number of words: \", len(holy_see_num_words))"
   ]
  },
  {
   "cell_type": "code",
   "execution_count": 56,
   "metadata": {},
   "outputs": [
    {
     "name": "stdout",
     "output_type": "stream",
     "text": [
      "Number of sentences:  139\n"
     ]
    }
   ],
   "source": [
    "holy_see_num_sentences = holy_see_text.split('.')\n",
    "print(\"Number of sentences: \", len(holy_see_num_sentences))"
   ]
  },
  {
   "cell_type": "markdown",
   "metadata": {},
   "source": [
    "## Number of words and sentences using Python Regular Expressions"
   ]
  },
  {
   "cell_type": "code",
   "execution_count": 57,
   "metadata": {},
   "outputs": [],
   "source": [
    "import re"
   ]
  },
  {
   "cell_type": "code",
   "execution_count": 58,
   "metadata": {},
   "outputs": [
    {
     "name": "stdout",
     "output_type": "stream",
     "text": [
      "Number of words:  2947\n"
     ]
    }
   ],
   "source": [
    "holy_see_num_words = re.findall(\"[\\w']+\", holy_see_text)\n",
    "print(\"Number of words: \", len(holy_see_num_words))"
   ]
  },
  {
   "cell_type": "code",
   "execution_count": 59,
   "metadata": {},
   "outputs": [
    {
     "name": "stdout",
     "output_type": "stream",
     "text": [
      "Number of sentences:  142\n"
     ]
    }
   ],
   "source": [
    "holy_see_num_sentences = re.compile('[.!?]').split(holy_see_text)\n",
    "print(\"Number of sentences: \", len(holy_see_num_sentences))"
   ]
  },
  {
   "cell_type": "markdown",
   "metadata": {},
   "source": [
    "## Number of words and sentences using Python NLTK framework"
   ]
  },
  {
   "cell_type": "code",
   "execution_count": 60,
   "metadata": {},
   "outputs": [],
   "source": [
    "import nltk\n",
    "from nltk.tokenize import word_tokenize\n",
    "from nltk.tokenize import sent_tokenize"
   ]
  },
  {
   "cell_type": "code",
   "execution_count": 61,
   "metadata": {},
   "outputs": [
    {
     "name": "stdout",
     "output_type": "stream",
     "text": [
      "Number of words:  3241\n"
     ]
    }
   ],
   "source": [
    "# Word Tokenize\n",
    "holy_see_num_words = word_tokenize(holy_see_text)\n",
    "print(\"Number of words: \", len(holy_see_num_words))"
   ]
  },
  {
   "cell_type": "code",
   "execution_count": 62,
   "metadata": {},
   "outputs": [
    {
     "name": "stdout",
     "output_type": "stream",
     "text": [
      "Number of words:  3396\n"
     ]
    }
   ],
   "source": [
    "# Punctuation as delimeter\n",
    "holy_see_num_words = nltk.wordpunct_tokenize(holy_see_text)\n",
    "print(\"Number of words: \", len(holy_see_num_words))"
   ]
  },
  {
   "cell_type": "code",
   "execution_count": 63,
   "metadata": {},
   "outputs": [
    {
     "name": "stdout",
     "output_type": "stream",
     "text": [
      "Number of sentences:  113\n"
     ]
    }
   ],
   "source": [
    "holy_see_num_sentences = sent_tokenize(holy_see_text)\n",
    "print(\"Number of sentences: \", len(holy_see_num_sentences))"
   ]
  }
 ],
 "metadata": {
  "interpreter": {
   "hash": "e304330cde09e27e1568fa377d5c59942e81145071ac67006de7f319629e71ea"
  },
  "kernelspec": {
   "display_name": "Python 3.9.7 64-bit",
   "language": "python",
   "name": "python3"
  },
  "language_info": {
   "codemirror_mode": {
    "name": "ipython",
    "version": 3
   },
   "file_extension": ".py",
   "mimetype": "text/x-python",
   "name": "python",
   "nbconvert_exporter": "python",
   "pygments_lexer": "ipython3",
   "version": "3.9.7"
  },
  "orig_nbformat": 4
 },
 "nbformat": 4,
 "nbformat_minor": 2
}
